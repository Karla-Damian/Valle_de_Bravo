{
 "cells": [
  {
   "cell_type": "code",
   "execution_count": 48,
   "metadata": {
    "collapsed": true
   },
   "outputs": [],
   "source": [
    "import numpy as np\n",
    "import pandas as pd\n",
    "import matplotlib.pyplot as plt\n",
    "import dateutil\n",
    "\n",
    "from datetime import datetime\n",
    "\n",
    "%matplotlib inline"
   ]
  },
  {
   "cell_type": "code",
   "execution_count": 49,
   "metadata": {},
   "outputs": [
    {
     "data": {
      "text/plain": [
       "Index(['Date', 'Time', 'TempOut', 'HiTemp', 'LowTemp', 'OutHum', 'DewPt',\n",
       "       'WindSpeed', 'WindDir', 'WindRun', 'HiSpeed', 'HiDir', 'WindChill',\n",
       "       'HeatIndex', 'THWIndex', 'THSWIndex', 'Bar', 'Rain', 'RainRate',\n",
       "       'SolarRad', 'SolarEnergy', 'HiSolarRad', 'HeatD-D', 'CoolD-D', 'InTemp',\n",
       "       'InHum', 'InDew', 'InHeat', 'InEMC', 'InAirDensity', 'ET', 'WindSamp',\n",
       "       'WindTx', 'ISSRecept', 'ArcInt'],\n",
       "      dtype='object')"
      ]
     },
     "execution_count": 49,
     "metadata": {},
     "output_type": "execute_result"
    }
   ],
   "source": [
    "df = pd.read_csv('Datos2017_prueba.csv')\n",
    "df.columns"
   ]
  },
  {
   "cell_type": "code",
   "execution_count": 50,
   "metadata": {},
   "outputs": [
    {
     "name": "stdout",
     "output_type": "stream",
     "text": [
      "['10/1/2017' '20/1/2017' '30/1/2017' '10/2/2017' '20/2/2017']\n",
      "['12:15 AM' '12:30 AM' '12:45 AM' '1:00 AM' '1:15 AM']\n",
      "['10/1/2017 12:15 AM' '20/1/2017 12:30 AM' '30/1/2017 12:45 AM'\n",
      " '10/2/2017 1:00 AM' '20/2/2017 1:15 AM' '30/2/2017 1:30 AM'\n",
      " '10/3/2017 1:45 AM' '20/3/2017 2:00 AM' '30/3/2017 2:15 AM'\n",
      " '10/4/2017 2:30 AM' '20/4/2017 2:45 AM' '30/4/2017 3:00 AM'\n",
      " '10/5/2017 3:15 AM' '20/5/2017 3:30 AM' '30/5/2017 3:45 AM'\n",
      " '10/6/2017 4:00 AM' '20/6/2017 4:15 AM' '30/6/2017 4:30 AM'\n",
      " '10/7/2017 4:45 AM' '20/7/2017 5:00 AM' '30/7/2017 5:15 AM'\n",
      " '10/8/2017 5:30 AM' '20/8/2017 5:45 AM' '30/8/2017 6:00 AM'\n",
      " '10/9/2017 6:15 AM' '20/9/2017 6:30 AM']\n"
     ]
    },
    {
     "ename": "ValueError",
     "evalue": "day is out of range for month",
     "output_type": "error",
     "traceback": [
      "\u001b[1;31m---------------------------------------------------------------------------\u001b[0m",
      "\u001b[1;31mValueError\u001b[0m                                Traceback (most recent call last)",
      "\u001b[1;32m<ipython-input-50-9a38797d0757>\u001b[0m in \u001b[0;36m<module>\u001b[1;34m()\u001b[0m\n\u001b[0;32m      7\u001b[0m \u001b[0mdate_time\u001b[0m \u001b[1;33m=\u001b[0m \u001b[1;33m[\u001b[0m\u001b[1;33m]\u001b[0m\u001b[1;33m\u001b[0m\u001b[0m\n\u001b[0;32m      8\u001b[0m \u001b[1;32mfor\u001b[0m \u001b[0mdt\u001b[0m \u001b[1;32min\u001b[0m \u001b[0mrange\u001b[0m\u001b[1;33m(\u001b[0m\u001b[0mlen\u001b[0m\u001b[1;33m(\u001b[0m\u001b[0mDate\u001b[0m\u001b[1;33m)\u001b[0m\u001b[1;33m)\u001b[0m\u001b[1;33m:\u001b[0m\u001b[1;33m\u001b[0m\u001b[0m\n\u001b[1;32m----> 9\u001b[1;33m     \u001b[0mformato\u001b[0m \u001b[1;33m=\u001b[0m \u001b[0mdateutil\u001b[0m\u001b[1;33m.\u001b[0m\u001b[0mparser\u001b[0m\u001b[1;33m.\u001b[0m\u001b[0mparse\u001b[0m\u001b[1;33m(\u001b[0m\u001b[0mDateTime_str\u001b[0m\u001b[1;33m[\u001b[0m\u001b[0mdt\u001b[0m\u001b[1;33m]\u001b[0m\u001b[1;33m,\u001b[0m \u001b[0mdayfirst\u001b[0m\u001b[1;33m=\u001b[0m\u001b[1;32mTrue\u001b[0m\u001b[1;33m)\u001b[0m\u001b[1;33m\u001b[0m\u001b[0m\n\u001b[0m\u001b[0;32m     10\u001b[0m     \u001b[0mdate_time\u001b[0m\u001b[1;33m.\u001b[0m\u001b[0mappend\u001b[0m\u001b[1;33m(\u001b[0m\u001b[0mformato\u001b[0m\u001b[1;33m)\u001b[0m\u001b[1;33m\u001b[0m\u001b[0m\n\u001b[0;32m     11\u001b[0m \u001b[1;33m\u001b[0m\u001b[0m\n",
      "\u001b[1;32m~\\Anaconda3\\lib\\site-packages\\dateutil\\parser.py\u001b[0m in \u001b[0;36mparse\u001b[1;34m(timestr, parserinfo, **kwargs)\u001b[0m\n\u001b[0;32m   1180\u001b[0m         \u001b[1;32mreturn\u001b[0m \u001b[0mparser\u001b[0m\u001b[1;33m(\u001b[0m\u001b[0mparserinfo\u001b[0m\u001b[1;33m)\u001b[0m\u001b[1;33m.\u001b[0m\u001b[0mparse\u001b[0m\u001b[1;33m(\u001b[0m\u001b[0mtimestr\u001b[0m\u001b[1;33m,\u001b[0m \u001b[1;33m**\u001b[0m\u001b[0mkwargs\u001b[0m\u001b[1;33m)\u001b[0m\u001b[1;33m\u001b[0m\u001b[0m\n\u001b[0;32m   1181\u001b[0m     \u001b[1;32melse\u001b[0m\u001b[1;33m:\u001b[0m\u001b[1;33m\u001b[0m\u001b[0m\n\u001b[1;32m-> 1182\u001b[1;33m         \u001b[1;32mreturn\u001b[0m \u001b[0mDEFAULTPARSER\u001b[0m\u001b[1;33m.\u001b[0m\u001b[0mparse\u001b[0m\u001b[1;33m(\u001b[0m\u001b[0mtimestr\u001b[0m\u001b[1;33m,\u001b[0m \u001b[1;33m**\u001b[0m\u001b[0mkwargs\u001b[0m\u001b[1;33m)\u001b[0m\u001b[1;33m\u001b[0m\u001b[0m\n\u001b[0m\u001b[0;32m   1183\u001b[0m \u001b[1;33m\u001b[0m\u001b[0m\n\u001b[0;32m   1184\u001b[0m \u001b[1;33m\u001b[0m\u001b[0m\n",
      "\u001b[1;32m~\\Anaconda3\\lib\\site-packages\\dateutil\\parser.py\u001b[0m in \u001b[0;36mparse\u001b[1;34m(self, timestr, default, ignoretz, tzinfos, **kwargs)\u001b[0m\n\u001b[0;32m    579\u001b[0m                 \u001b[0mrepl\u001b[0m\u001b[1;33m[\u001b[0m\u001b[1;34m'day'\u001b[0m\u001b[1;33m]\u001b[0m \u001b[1;33m=\u001b[0m \u001b[0mmonthrange\u001b[0m\u001b[1;33m(\u001b[0m\u001b[0mcyear\u001b[0m\u001b[1;33m,\u001b[0m \u001b[0mcmonth\u001b[0m\u001b[1;33m)\u001b[0m\u001b[1;33m[\u001b[0m\u001b[1;36m1\u001b[0m\u001b[1;33m]\u001b[0m\u001b[1;33m\u001b[0m\u001b[0m\n\u001b[0;32m    580\u001b[0m \u001b[1;33m\u001b[0m\u001b[0m\n\u001b[1;32m--> 581\u001b[1;33m         \u001b[0mret\u001b[0m \u001b[1;33m=\u001b[0m \u001b[0mdefault\u001b[0m\u001b[1;33m.\u001b[0m\u001b[0mreplace\u001b[0m\u001b[1;33m(\u001b[0m\u001b[1;33m**\u001b[0m\u001b[0mrepl\u001b[0m\u001b[1;33m)\u001b[0m\u001b[1;33m\u001b[0m\u001b[0m\n\u001b[0m\u001b[0;32m    582\u001b[0m \u001b[1;33m\u001b[0m\u001b[0m\n\u001b[0;32m    583\u001b[0m         \u001b[1;32mif\u001b[0m \u001b[0mres\u001b[0m\u001b[1;33m.\u001b[0m\u001b[0mweekday\u001b[0m \u001b[1;32mis\u001b[0m \u001b[1;32mnot\u001b[0m \u001b[1;32mNone\u001b[0m \u001b[1;32mand\u001b[0m \u001b[1;32mnot\u001b[0m \u001b[0mres\u001b[0m\u001b[1;33m.\u001b[0m\u001b[0mday\u001b[0m\u001b[1;33m:\u001b[0m\u001b[1;33m\u001b[0m\u001b[0m\n",
      "\u001b[1;31mValueError\u001b[0m: day is out of range for month"
     ]
    }
   ],
   "source": [
    "Date = df['Date'].values\n",
    "print(Date[0:5])\n",
    "Time = df['Time'].values\n",
    "print(Time[0:5])\n",
    "DateTime_str = Date + ' ' + Time\n",
    "print(DateTime_str)\n",
    "date_time = []\n",
    "for dt in range(len(Date)):\n",
    "    formato = dateutil.parser.parse(DateTime_str[dt], dayfirst=True)\n",
    "    date_time.append(formato)\n",
    "\n",
    "print(date_time[0])\n",
    "print(date_time[4])\n",
    "print(date_time[6])\n",
    "# print(date_time[100])\n",
    "# print(date_time[1000])\n",
    "# print(date_time[10000])"
   ]
  },
  {
   "cell_type": "code",
   "execution_count": 14,
   "metadata": {},
   "outputs": [
    {
     "data": {
      "text/plain": [
       "26"
      ]
     },
     "execution_count": 14,
     "metadata": {},
     "output_type": "execute_result"
    }
   ],
   "source": [
    "len(date_time)"
   ]
  },
  {
   "cell_type": "code",
   "execution_count": 15,
   "metadata": {},
   "outputs": [
    {
     "name": "stdout",
     "output_type": "stream",
     "text": [
      "[13.2 13.1 13.  12.8 12.7 12.6 12.4 12.4 12.4 12.6]\n",
      "[0 0 0 0 0 0 0 0 0 0]\n",
      "['N' 'N' 'N' 'N' 'N' 'N' 'N' 'N' 'N' 'N']\n",
      "[0 0 0 0 0 0 0 0 0 0]\n",
      "0    0\n",
      "1    0\n",
      "2    0\n",
      "3    0\n",
      "4    0\n",
      "5    0\n",
      "6    0\n",
      "7    0\n",
      "8    0\n",
      "9    0\n",
      "Name: SolarRad, dtype: int64\n"
     ]
    }
   ],
   "source": [
    "temperature = df['TempOut'].values  #temperatura = df['TempOut'] #con values es un array, sin values es un archivo pandas?\n",
    "print(temperature[0:10])\n",
    "wind_speed = df['WindSpeed'].values\n",
    "print(wind_speed[0:10])\n",
    "wind_dir = df['WindDir'].values\n",
    "print(wind_dir[0:10])\n",
    "rain = df['Rain'].values\n",
    "print(rain[0:10])\n",
    "solar_rad = df['SolarRad']\n",
    "print(solar_rad[0:10])"
   ]
  },
  {
   "cell_type": "code",
   "execution_count": 16,
   "metadata": {},
   "outputs": [
    {
     "data": {
      "text/plain": [
       "datetime.datetime(2017, 1, 1, 0, 15)"
      ]
     },
     "execution_count": 16,
     "metadata": {},
     "output_type": "execute_result"
    }
   ],
   "source": [
    "date_time[0]"
   ]
  },
  {
   "cell_type": "code",
   "execution_count": 17,
   "metadata": {},
   "outputs": [
    {
     "name": "stdout",
     "output_type": "stream",
     "text": [
      "2017\n",
      "1\n",
      "1\n",
      "0\n",
      "15\n"
     ]
    }
   ],
   "source": [
    "print(date_time[0].year)\n",
    "print(date_time[0].month)\n",
    "print(date_time[0].day)\n",
    "print(date_time[0].hour)\n",
    "print(date_time[0].minute)"
   ]
  },
  {
   "cell_type": "code",
   "execution_count": 19,
   "metadata": {},
   "outputs": [
    {
     "data": {
      "text/plain": [
       "list"
      ]
     },
     "execution_count": 19,
     "metadata": {},
     "output_type": "execute_result"
    }
   ],
   "source": [
    "# Temperatura mensual\n",
    "# month 1-12\n",
    "\n",
    "temp_average_month = []\n",
    "type(temp_average_month)\n",
    "for d in range(len(date_time)):\n",
    "    m = 1\n",
    "    temp_month = []\n",
    "#     if date_time[d].month == m:\n",
    "#         temp_month.append(temperature[d])"
   ]
  },
  {
   "cell_type": "code",
   "execution_count": 24,
   "metadata": {},
   "outputs": [
    {
     "name": "stdout",
     "output_type": "stream",
     "text": [
      "0 1 []\n",
      "2017-01-01 00:15:00\n",
      "mes:  1\n",
      "1 1 []\n",
      "2017-01-01 00:30:00\n",
      "mes:  1\n",
      "2 1 []\n",
      "2017-01-01 00:45:00\n",
      "mes:  1\n",
      "3 1 []\n",
      "2017-01-02 01:00:00\n",
      "mes:  1\n",
      "4 1 []\n",
      "2017-01-02 01:15:00\n",
      "mes:  1\n",
      "5 1 []\n",
      "2017-01-02 01:30:00\n",
      "mes:  1\n",
      "6 1 []\n",
      "2017-01-03 01:45:00\n",
      "mes:  1\n",
      "7 1 []\n",
      "2017-01-03 02:00:00\n",
      "mes:  1\n",
      "8 1 []\n",
      "2017-01-03 02:15:00\n",
      "mes:  1\n",
      "9 1 []\n",
      "2017-01-04 02:30:00\n",
      "mes:  1\n",
      "10 1 []\n",
      "2017-01-04 02:45:00\n",
      "mes:  1\n",
      "11 1 []\n",
      "2017-01-04 03:00:00\n",
      "mes:  1\n",
      "12 1 []\n",
      "2017-01-05 03:15:00\n",
      "mes:  1\n",
      "13 1 []\n",
      "2017-01-05 03:30:00\n",
      "mes:  1\n",
      "14 1 []\n",
      "2017-01-05 03:45:00\n",
      "mes:  1\n",
      "15 1 []\n",
      "2017-01-06 04:00:00\n",
      "mes:  1\n",
      "16 1 []\n",
      "2017-01-06 04:15:00\n",
      "mes:  1\n",
      "17 1 []\n",
      "2017-01-06 04:30:00\n",
      "mes:  1\n",
      "18 1 []\n",
      "2017-01-07 04:45:00\n",
      "mes:  1\n",
      "19 1 []\n",
      "2017-01-07 05:00:00\n",
      "mes:  1\n",
      "20 1 []\n",
      "2017-01-07 05:15:00\n",
      "mes:  1\n",
      "21 1 []\n",
      "2017-01-08 05:30:00\n",
      "mes:  1\n",
      "22 1 []\n",
      "2017-01-08 05:45:00\n",
      "mes:  1\n",
      "23 1 []\n",
      "2017-01-08 06:00:00\n",
      "mes:  1\n",
      "24 1 []\n",
      "2017-01-09 06:15:00\n",
      "mes:  1\n",
      "25 1 []\n",
      "2017-01-09 06:30:00\n",
      "mes:  1\n"
     ]
    }
   ],
   "source": [
    "for d in range(len(date_time)):\n",
    "    m = 1\n",
    "    temp_m = []\n",
    "    print(d, m, temp_m)\n",
    "    print(date_time[d])\n",
    "    print('mes: ', date_time[d].month)"
   ]
  },
  {
   "cell_type": "code",
   "execution_count": null,
   "metadata": {},
   "outputs": [],
   "source": []
  },
  {
   "cell_type": "code",
   "execution_count": null,
   "metadata": {
    "collapsed": true
   },
   "outputs": [],
   "source": []
  }
 ],
 "metadata": {
  "kernelspec": {
   "display_name": "Python 3",
   "language": "python",
   "name": "python3"
  },
  "language_info": {
   "codemirror_mode": {
    "name": "ipython",
    "version": 3
   },
   "file_extension": ".py",
   "mimetype": "text/x-python",
   "name": "python",
   "nbconvert_exporter": "python",
   "pygments_lexer": "ipython3",
   "version": "3.6.3"
  }
 },
 "nbformat": 4,
 "nbformat_minor": 2
}
